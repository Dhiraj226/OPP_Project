{
  "nbformat": 4,
  "nbformat_minor": 0,
  "metadata": {
    "colab": {
      "provenance": []
    },
    "kernelspec": {
      "name": "python3",
      "display_name": "Python 3"
    },
    "language_info": {
      "name": "python"
    }
  },
  "cells": [
    {
      "cell_type": "code",
      "source": [
        "!pip install nlpcloud"
      ],
      "metadata": {
        "colab": {
          "base_uri": "https://localhost:8080/"
        },
        "id": "eNXsRWgngnL_",
        "outputId": "086f5d22-9ab7-4aea-f4b9-61c4d7934ac0"
      },
      "execution_count": 2,
      "outputs": [
        {
          "output_type": "stream",
          "name": "stdout",
          "text": [
            "Collecting nlpcloud\n",
            "  Downloading nlpcloud-1.1.46-py3-none-any.whl.metadata (1.1 kB)\n",
            "Requirement already satisfied: requests in /usr/local/lib/python3.10/dist-packages (from nlpcloud) (2.32.3)\n",
            "Requirement already satisfied: charset-normalizer<4,>=2 in /usr/local/lib/python3.10/dist-packages (from requests->nlpcloud) (3.3.2)\n",
            "Requirement already satisfied: idna<4,>=2.5 in /usr/local/lib/python3.10/dist-packages (from requests->nlpcloud) (3.10)\n",
            "Requirement already satisfied: urllib3<3,>=1.21.1 in /usr/local/lib/python3.10/dist-packages (from requests->nlpcloud) (2.2.3)\n",
            "Requirement already satisfied: certifi>=2017.4.17 in /usr/local/lib/python3.10/dist-packages (from requests->nlpcloud) (2024.8.30)\n",
            "Downloading nlpcloud-1.1.46-py3-none-any.whl (3.9 kB)\n",
            "Installing collected packages: nlpcloud\n",
            "Successfully installed nlpcloud-1.1.46\n"
          ]
        }
      ]
    },
    {
      "cell_type": "code",
      "source": [
        "import nlpcloud\n",
        "class NLP:\n",
        "  def __init__(self):\n",
        "    self.__database={}\n",
        "    self.__first_menu()\n",
        "  def __first_menu(self):\n",
        "    first_input=input(\"\"\" Hey how would you like to proceed !\n",
        "    1. Want to register ?\n",
        "    2. Already registered\n",
        "    3. Mein to yese hee aya tha Hehehe\"\"\")\n",
        "    if first_input=='1':\n",
        "      self.__register()\n",
        "    elif first_input=='2':\n",
        "      self.__login()\n",
        "    else:\n",
        "      print('Bhai mat kar yar ye sab')\n",
        "      self.__exit()\n",
        "\n",
        "\n",
        "  def __second_menu(self):\n",
        "    option=input(\"\"\" what do you want to do !\n",
        "    1. NER\n",
        "    2. Title Giver\n",
        "    3. Sentiment Analysis\n",
        "    4. Exit\"\"\")\n",
        "\n",
        "    if  option=='1':\n",
        "      self.__NER()\n",
        "    elif  option=='2':\n",
        "      self.__Language_Detection()\n",
        "    elif  option=='3':\n",
        "      self.__Sentiment_Analysis()\n",
        "    else:\n",
        "      self.__exit()\n",
        "\n",
        "\n",
        "  def __register(self):\n",
        "    name=input(\"Enter name: \")\n",
        "    email=input(\"Enter email: \")\n",
        "    password=input(\"Enter password: \")\n",
        "\n",
        "    if email in self.__database:\n",
        "      print(\"email already exits\")\n",
        "    else:\n",
        "      self.__database[email]=[name,password]\n",
        "      print('registration succesful')\n",
        "      print(self.__database)\n",
        "\n",
        "    self.__first_menu()\n",
        "\n",
        "\n",
        "  def __login(self):\n",
        "    email=input('enter email: ')\n",
        "    password=input('enter passwrod: ')\n",
        "    if email in self.__database:\n",
        "      if self.__database[email][1]==password:\n",
        "        print('login succesful')\n",
        "        self.__second_menu()\n",
        "      else:\n",
        "        print('password incorrect')\n",
        "\n",
        "    else:\n",
        "      print('Bhai tu register to karle , fir login karyio !')\n",
        "\n",
        "\n",
        "  def __exit(self):\n",
        "    pass\n",
        "\n",
        "\n",
        "  def __NER(self):\n",
        "    # for name entity recognition\n",
        "    para=input(\"Enter the paragram: \")\n",
        "    search=input(\"Enter what you want to search: \")\n",
        "\n",
        "    client = nlpcloud.Client(\"finetuned-llama-3-70b\", \"dc10a601a187483fb0860f5b876077a55727dfe1\", gpu=True)\n",
        "    response=client.entities(para,searched_entity=search)\n",
        "    print(response)\n",
        "    self.__second_menu()\n",
        "\n",
        "  def __Sentiment_Analysis(self):\n",
        "    text=input(\"Enter the Text: \")\n",
        "    client = nlpcloud.Client(\"distilbert-base-uncased-emotion\", \"dc10a601a187483fb0860f5b876077a55727dfe1\", gpu=False)\n",
        "    response=client.sentiment(text)\n",
        "    print(response)\n",
        "    self.__second_menu()\n",
        "\n",
        "  def __headlinde(self):\n",
        "\n",
        "    # For giving headline/story title\n",
        "    para=input(\"Enter the paragram: \")\n",
        "    client = nlpcloud.Client(\"t5-base-en-generate-headline\", \"dc10a601a187483fb0860f5b876077a55727dfe1\", gpu=False)\n",
        "    response=client.summarization(para)\n",
        "    print(response)\n",
        "    self.__second_menu()\n",
        "\n",
        ""
      ],
      "metadata": {
        "id": "SxMpdluOhDyi"
      },
      "execution_count": 23,
      "outputs": []
    },
    {
      "cell_type": "code",
      "source": [
        "obj=NLP()"
      ],
      "metadata": {
        "id": "dATavFk2kU_z",
        "colab": {
          "base_uri": "https://localhost:8080/"
        },
        "outputId": "d3d47724-6196-4265-b78c-c752f36ea9dd"
      },
      "execution_count": 24,
      "outputs": [
        {
          "name": "stdout",
          "output_type": "stream",
          "text": [
            " Hey how would you like to proceed !\n",
            "    1. Want to register ?\n",
            "    2. Already registered\n",
            "    3. Mein to yese hee aya tha Hehehe1\n",
            "Enter name: dhiraj\n",
            "Enter email: dhiraj@gmail.com\n",
            "Enter password: 1234\n",
            "registration succesful\n",
            "{'dhiraj@gmail.com': ['dhiraj', '1234']}\n",
            " Hey how would you like to proceed !\n",
            "    1. Want to register ?\n",
            "    2. Already registered\n",
            "    3. Mein to yese hee aya tha Hehehe2\n",
            "enter email: dhiraj@gmail.com\n",
            "enter passwrod: 1234\n",
            "login succesful\n",
            " what do you want to do !\n",
            "    1. NER\n",
            "    2. Title Giver\n",
            "    3. Sentiment Analysis\n",
            "    4. Exit3\n",
            "Enter the Text: I am feeling very happy now and i will eat my favourite food now\n",
            "{'scored_labels': [{'label': 'joy', 'score': 0.9990830421447754}, {'label': 'love', 'score': 0.0003437914710957557}, {'label': 'sadness', 'score': 0.00019900861661881208}, {'label': 'surprise', 'score': 0.00015852255455683917}, {'label': 'fear', 'score': 0.00010844508506124839}, {'label': 'anger', 'score': 0.00010711565118981525}]}\n",
            " what do you want to do !\n",
            "    1. NER\n",
            "    2. Title Giver\n",
            "    3. Sentiment Analysis\n",
            "    4. Exit4\n"
          ]
        }
      ]
    },
    {
      "cell_type": "code",
      "source": [],
      "metadata": {
        "id": "8g7lqqUaCohe"
      },
      "execution_count": null,
      "outputs": []
    }
  ]
}